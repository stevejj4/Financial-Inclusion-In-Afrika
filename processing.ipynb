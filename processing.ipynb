{
 "cells": [
  {
   "cell_type": "code",
   "execution_count": 1,
   "id": "5c25b545",
   "metadata": {},
   "outputs": [],
   "source": [
    "import pandas as pd\n",
    "import numpy as np\n",
    "import matplotlib.pyplot as plt\n",
    "import seaborn as sns"
   ]
  },
  {
   "cell_type": "code",
   "execution_count": 2,
   "id": "7bad4708",
   "metadata": {},
   "outputs": [],
   "source": [
    "train = pd.read_csv(r'C:/Users/SHOFCO SUN/Desktop/FIA Dataset/Train.csv')\n",
    "test = pd.read_csv(r'C:/Users/SHOFCO SUN/Desktop/FIA Dataset/Test.csv')\n",
    "SampleSubmission = pd.read_csv(r'C:/Users/SHOFCO SUN/Desktop/FIA Dataset/SampleSubmission.csv')\n",
    "VariableDefinitions = pd.read_csv(r'C:/Users/SHOFCO SUN/Desktop/FIA Dataset/VariableDefinitions.csv')"
   ]
  },
  {
   "cell_type": "code",
   "execution_count": 3,
   "id": "2fe85aa3",
   "metadata": {},
   "outputs": [],
   "source": [
    "#realizing the volume of data before synthesis\n",
    "#checking dimension of the data\n",
    "#every value represented by the turple corresponds to the actual value of the arrays/rows/columns\n",
    "\n"
   ]
  },
  {
   "cell_type": "code",
   "execution_count": 4,
   "id": "ff26b63f",
   "metadata": {},
   "outputs": [
    {
     "name": "stdout",
     "output_type": "stream",
     "text": [
      "Shape of the train data-->(23524, 13)\n",
      "Shape of the test data-->(10086, 12)\n",
      "      Variable Definitions                                         Unnamed: 1\n",
      "0                  country                         Country interviewee is in.\n",
      "1                     year                           Year survey was done in.\n",
      "2                 uniqueid             Unique identifier for each interviewee\n",
      "3            location_type                     Type of location: Rural, Urban\n",
      "4         cellphone_access  If interviewee has access to a cellphone: Yes, No\n",
      "5           household_size               Number of people living in one house\n",
      "6        age_of_respondent                         The age of the interviewee\n",
      "7     gender_of_respondent                Gender of interviewee: Male, Female\n",
      "8   relationship_with_head  The interviewee’s relationship with the head o...\n",
      "9           marital_status  The martial status of the interviewee: Married...\n",
      "10         education_level  Highest level of education: No formal educatio...\n",
      "11                job_type  Type of job interviewee has: Farming and Fishi...\n"
     ]
    }
   ],
   "source": [
    "print('Shape of the train data', train.shape, sep = '-->')\n",
    "print('Shape of the test data', test.shape, sep = '-->')\n",
    "print(VariableDefinitions)\n"
   ]
  },
  {
   "cell_type": "code",
   "execution_count": 5,
   "id": "9b6716b5",
   "metadata": {},
   "outputs": [
    {
     "name": "stdout",
     "output_type": "stream",
     "text": [
      "<class 'pandas.core.frame.DataFrame'>\n",
      "RangeIndex: 23524 entries, 0 to 23523\n",
      "Data columns (total 13 columns):\n",
      " #   Column                  Non-Null Count  Dtype \n",
      "---  ------                  --------------  ----- \n",
      " 0   country                 23524 non-null  object\n",
      " 1   year                    23524 non-null  int64 \n",
      " 2   uniqueid                23524 non-null  object\n",
      " 3   bank_account            23524 non-null  object\n",
      " 4   location_type           23524 non-null  object\n",
      " 5   cellphone_access        23524 non-null  object\n",
      " 6   household_size          23524 non-null  int64 \n",
      " 7   age_of_respondent       23524 non-null  int64 \n",
      " 8   gender_of_respondent    23524 non-null  object\n",
      " 9   relationship_with_head  23524 non-null  object\n",
      " 10  marital_status          23524 non-null  object\n",
      " 11  education_level         23524 non-null  object\n",
      " 12  job_type                23524 non-null  object\n",
      "dtypes: int64(3), object(10)\n",
      "memory usage: 2.3+ MB\n"
     ]
    }
   ],
   "source": [
    "train.info()"
   ]
  },
  {
   "cell_type": "code",
   "execution_count": 6,
   "id": "fabeffc0",
   "metadata": {},
   "outputs": [
    {
     "name": "stdout",
     "output_type": "stream",
     "text": [
      "<class 'pandas.core.frame.DataFrame'>\n",
      "RangeIndex: 10086 entries, 0 to 10085\n",
      "Data columns (total 12 columns):\n",
      " #   Column                  Non-Null Count  Dtype \n",
      "---  ------                  --------------  ----- \n",
      " 0   country                 10086 non-null  object\n",
      " 1   year                    10086 non-null  int64 \n",
      " 2   uniqueid                10086 non-null  object\n",
      " 3   location_type           10086 non-null  object\n",
      " 4   cellphone_access        10086 non-null  object\n",
      " 5   household_size          10086 non-null  int64 \n",
      " 6   age_of_respondent       10086 non-null  int64 \n",
      " 7   gender_of_respondent    10086 non-null  object\n",
      " 8   relationship_with_head  10086 non-null  object\n",
      " 9   marital_status          10086 non-null  object\n",
      " 10  education_level         10086 non-null  object\n",
      " 11  job_type                10086 non-null  object\n",
      "dtypes: int64(3), object(9)\n",
      "memory usage: 945.7+ KB\n"
     ]
    }
   ],
   "source": [
    "test.info()"
   ]
  },
  {
   "cell_type": "code",
   "execution_count": 7,
   "id": "5e58e077",
   "metadata": {},
   "outputs": [
    {
     "data": {
      "text/plain": [
       "country                   0\n",
       "year                      0\n",
       "uniqueid                  0\n",
       "bank_account              0\n",
       "location_type             0\n",
       "cellphone_access          0\n",
       "household_size            0\n",
       "age_of_respondent         0\n",
       "gender_of_respondent      0\n",
       "relationship_with_head    0\n",
       "marital_status            0\n",
       "education_level           0\n",
       "job_type                  0\n",
       "dtype: int64"
      ]
     },
     "execution_count": 7,
     "metadata": {},
     "output_type": "execute_result"
    }
   ],
   "source": [
    "train.isnull().sum()\n",
    "#The dataset has  no missing values"
   ]
  },
  {
   "cell_type": "code",
   "execution_count": 8,
   "id": "a1e407fd",
   "metadata": {},
   "outputs": [
    {
     "data": {
      "text/html": [
       "<div>\n",
       "<style scoped>\n",
       "    .dataframe tbody tr th:only-of-type {\n",
       "        vertical-align: middle;\n",
       "    }\n",
       "\n",
       "    .dataframe tbody tr th {\n",
       "        vertical-align: top;\n",
       "    }\n",
       "\n",
       "    .dataframe thead th {\n",
       "        text-align: right;\n",
       "    }\n",
       "</style>\n",
       "<table border=\"1\" class=\"dataframe\">\n",
       "  <thead>\n",
       "    <tr style=\"text-align: right;\">\n",
       "      <th></th>\n",
       "      <th>country</th>\n",
       "      <th>year</th>\n",
       "      <th>uniqueid</th>\n",
       "      <th>bank_account</th>\n",
       "      <th>location_type</th>\n",
       "      <th>cellphone_access</th>\n",
       "      <th>household_size</th>\n",
       "      <th>age_of_respondent</th>\n",
       "      <th>gender_of_respondent</th>\n",
       "      <th>relationship_with_head</th>\n",
       "      <th>marital_status</th>\n",
       "      <th>education_level</th>\n",
       "      <th>job_type</th>\n",
       "    </tr>\n",
       "  </thead>\n",
       "  <tbody>\n",
       "    <tr>\n",
       "      <th>0</th>\n",
       "      <td>Kenya</td>\n",
       "      <td>2018</td>\n",
       "      <td>uniqueid_1</td>\n",
       "      <td>Yes</td>\n",
       "      <td>Rural</td>\n",
       "      <td>Yes</td>\n",
       "      <td>3</td>\n",
       "      <td>24</td>\n",
       "      <td>Female</td>\n",
       "      <td>Spouse</td>\n",
       "      <td>Married/Living together</td>\n",
       "      <td>Secondary education</td>\n",
       "      <td>Self employed</td>\n",
       "    </tr>\n",
       "    <tr>\n",
       "      <th>1</th>\n",
       "      <td>Kenya</td>\n",
       "      <td>2018</td>\n",
       "      <td>uniqueid_2</td>\n",
       "      <td>No</td>\n",
       "      <td>Rural</td>\n",
       "      <td>No</td>\n",
       "      <td>5</td>\n",
       "      <td>70</td>\n",
       "      <td>Female</td>\n",
       "      <td>Head of Household</td>\n",
       "      <td>Widowed</td>\n",
       "      <td>No formal education</td>\n",
       "      <td>Government Dependent</td>\n",
       "    </tr>\n",
       "    <tr>\n",
       "      <th>2</th>\n",
       "      <td>Kenya</td>\n",
       "      <td>2018</td>\n",
       "      <td>uniqueid_3</td>\n",
       "      <td>Yes</td>\n",
       "      <td>Urban</td>\n",
       "      <td>Yes</td>\n",
       "      <td>5</td>\n",
       "      <td>26</td>\n",
       "      <td>Male</td>\n",
       "      <td>Other relative</td>\n",
       "      <td>Single/Never Married</td>\n",
       "      <td>Vocational/Specialised training</td>\n",
       "      <td>Self employed</td>\n",
       "    </tr>\n",
       "    <tr>\n",
       "      <th>3</th>\n",
       "      <td>Kenya</td>\n",
       "      <td>2018</td>\n",
       "      <td>uniqueid_4</td>\n",
       "      <td>No</td>\n",
       "      <td>Rural</td>\n",
       "      <td>Yes</td>\n",
       "      <td>5</td>\n",
       "      <td>34</td>\n",
       "      <td>Female</td>\n",
       "      <td>Head of Household</td>\n",
       "      <td>Married/Living together</td>\n",
       "      <td>Primary education</td>\n",
       "      <td>Formally employed Private</td>\n",
       "    </tr>\n",
       "    <tr>\n",
       "      <th>4</th>\n",
       "      <td>Kenya</td>\n",
       "      <td>2018</td>\n",
       "      <td>uniqueid_5</td>\n",
       "      <td>No</td>\n",
       "      <td>Urban</td>\n",
       "      <td>No</td>\n",
       "      <td>8</td>\n",
       "      <td>26</td>\n",
       "      <td>Male</td>\n",
       "      <td>Child</td>\n",
       "      <td>Single/Never Married</td>\n",
       "      <td>Primary education</td>\n",
       "      <td>Informally employed</td>\n",
       "    </tr>\n",
       "    <tr>\n",
       "      <th>5</th>\n",
       "      <td>Kenya</td>\n",
       "      <td>2018</td>\n",
       "      <td>uniqueid_6</td>\n",
       "      <td>No</td>\n",
       "      <td>Rural</td>\n",
       "      <td>No</td>\n",
       "      <td>7</td>\n",
       "      <td>26</td>\n",
       "      <td>Female</td>\n",
       "      <td>Spouse</td>\n",
       "      <td>Married/Living together</td>\n",
       "      <td>Primary education</td>\n",
       "      <td>Informally employed</td>\n",
       "    </tr>\n",
       "    <tr>\n",
       "      <th>6</th>\n",
       "      <td>Kenya</td>\n",
       "      <td>2018</td>\n",
       "      <td>uniqueid_7</td>\n",
       "      <td>No</td>\n",
       "      <td>Rural</td>\n",
       "      <td>Yes</td>\n",
       "      <td>7</td>\n",
       "      <td>32</td>\n",
       "      <td>Female</td>\n",
       "      <td>Spouse</td>\n",
       "      <td>Married/Living together</td>\n",
       "      <td>Primary education</td>\n",
       "      <td>Self employed</td>\n",
       "    </tr>\n",
       "  </tbody>\n",
       "</table>\n",
       "</div>"
      ],
      "text/plain": [
       "  country  year    uniqueid bank_account location_type cellphone_access  \\\n",
       "0   Kenya  2018  uniqueid_1          Yes         Rural              Yes   \n",
       "1   Kenya  2018  uniqueid_2           No         Rural               No   \n",
       "2   Kenya  2018  uniqueid_3          Yes         Urban              Yes   \n",
       "3   Kenya  2018  uniqueid_4           No         Rural              Yes   \n",
       "4   Kenya  2018  uniqueid_5           No         Urban               No   \n",
       "5   Kenya  2018  uniqueid_6           No         Rural               No   \n",
       "6   Kenya  2018  uniqueid_7           No         Rural              Yes   \n",
       "\n",
       "   household_size  age_of_respondent gender_of_respondent  \\\n",
       "0               3                 24               Female   \n",
       "1               5                 70               Female   \n",
       "2               5                 26                 Male   \n",
       "3               5                 34               Female   \n",
       "4               8                 26                 Male   \n",
       "5               7                 26               Female   \n",
       "6               7                 32               Female   \n",
       "\n",
       "  relationship_with_head           marital_status  \\\n",
       "0                 Spouse  Married/Living together   \n",
       "1      Head of Household                  Widowed   \n",
       "2         Other relative     Single/Never Married   \n",
       "3      Head of Household  Married/Living together   \n",
       "4                  Child     Single/Never Married   \n",
       "5                 Spouse  Married/Living together   \n",
       "6                 Spouse  Married/Living together   \n",
       "\n",
       "                   education_level                   job_type  \n",
       "0              Secondary education              Self employed  \n",
       "1              No formal education       Government Dependent  \n",
       "2  Vocational/Specialised training              Self employed  \n",
       "3                Primary education  Formally employed Private  \n",
       "4                Primary education        Informally employed  \n",
       "5                Primary education        Informally employed  \n",
       "6                Primary education              Self employed  "
      ]
     },
     "execution_count": 8,
     "metadata": {},
     "output_type": "execute_result"
    }
   ],
   "source": [
    "train.head(7)"
   ]
  },
  {
   "cell_type": "markdown",
   "id": "3173ce74",
   "metadata": {},
   "source": []
  },
  {
   "cell_type": "code",
   "execution_count": 9,
   "id": "f7c62c52",
   "metadata": {},
   "outputs": [
    {
     "data": {
      "text/plain": [
       "bank_account               2\n",
       "location_type              2\n",
       "cellphone_access           2\n",
       "gender_of_respondent       2\n",
       "year                       3\n",
       "country                    4\n",
       "marital_status             5\n",
       "relationship_with_head     6\n",
       "education_level            6\n",
       "job_type                  10\n",
       "dtype: int64"
      ]
     },
     "execution_count": 9,
     "metadata": {},
     "output_type": "execute_result"
    }
   ],
   "source": [
    "#finding the number of unique value for each variable/feature\n",
    "feature_count = train.nunique(dropna = False)\n",
    "feature_count.sort_values()[:10]"
   ]
  },
  {
   "cell_type": "markdown",
   "id": "11d0cb75",
   "metadata": {},
   "source": [
    "In this case the target variable is bank_Account,\n",
    "Analysis by using pivoting features which in this case I picked unique features"
   ]
  },
  {
   "cell_type": "code",
   "execution_count": 10,
   "id": "7c8bd229",
   "metadata": {},
   "outputs": [],
   "source": [
    "split=train.shape[0]\n",
    "datasets=pd.concat([train,test],axis=0)"
   ]
  },
  {
   "cell_type": "code",
   "execution_count": 11,
   "id": "73974dd9",
   "metadata": {},
   "outputs": [
    {
     "data": {
      "text/plain": [
       "(33610, 13)"
      ]
     },
     "execution_count": 11,
     "metadata": {},
     "output_type": "execute_result"
    }
   ],
   "source": [
    "datasets.shape"
   ]
  },
  {
   "cell_type": "markdown",
   "id": "7f4f385a",
   "metadata": {},
   "source": [
    "## Data visualizations and Univariate analysis"
   ]
  },
  {
   "cell_type": "code",
   "execution_count": 12,
   "id": "ba102c22",
   "metadata": {},
   "outputs": [
    {
     "data": {
      "text/plain": [
       "<AxesSubplot:xlabel='country', ylabel='count'>"
      ]
     },
     "execution_count": 12,
     "metadata": {},
     "output_type": "execute_result"
    },
    {
     "data": {
      "image/png": "[encoded data removed]",
      "text/plain": [
       "<Figure size 432x288 with 1 Axes>"
      ]
     },
     "metadata": {
      "needs_background": "light"
     },
     "output_type": "display_data"
    }
   ],
   "source": [
    "#country\n",
    "sns.countplot(x=datasets['country'], hue = datasets['bank_account'])"
   ]
  },
  {
   "cell_type": "code",
   "execution_count": null,
   "id": "45f15621",
   "metadata": {},
   "outputs": [],
   "source": []
  },
  {
   "cell_type": "code",
   "execution_count": 13,
   "id": "25387766",
   "metadata": {},
   "outputs": [
    {
     "data": {
      "text/plain": [
       "<AxesSubplot:xlabel='year', ylabel='count'>"
      ]
     },
     "execution_count": 13,
     "metadata": {},
     "output_type": "execute_result"
    },
    {
     "data": {
      "image/png": "[encoded data removed]",
      "text/plain": [
       "<Figure size 432x288 with 1 Axes>"
      ]
     },
     "metadata": {
      "needs_background": "light"
     },
     "output_type": "display_data"
    }
   ],
   "source": [
    "sns.countplot(x = datasets['year'])"
   ]
  },
  {
   "cell_type": "code",
   "execution_count": null,
   "id": "f6fd24e1",
   "metadata": {},
   "outputs": [],
   "source": []
  },
  {
   "cell_type": "code",
   "execution_count": 14,
   "id": "b9995cbe",
   "metadata": {},
   "outputs": [
    {
     "data": {
      "text/plain": [
       "country   year  bank_account\n",
       "Kenya     2018  No              4547\n",
       "                Yes             1521\n",
       "Rwanda    2016  No              7732\n",
       "                Yes             1003\n",
       "Tanzania  2017  No              6013\n",
       "                Yes              607\n",
       "Uganda    2018  No              1920\n",
       "                Yes              181\n",
       "dtype: int64"
      ]
     },
     "execution_count": 14,
     "metadata": {},
     "output_type": "execute_result"
    }
   ],
   "source": [
    "# Reviewing class distribution of country_year_bankAccount\n",
    "country_year_bankAccount = datasets.groupby(['country','year','bank_account'] ).size()\n",
    "country_year_bankAccount"
   ]
  },
  {
   "cell_type": "code",
   "execution_count": 15,
   "id": "091efbcc",
   "metadata": {},
   "outputs": [
    {
     "data": {
      "text/plain": [
       "bank_account  cellphone_access\n",
       "No            No                   5966\n",
       "              Yes                 14246\n",
       "Yes           No                    104\n",
       "              Yes                  3208\n",
       "dtype: int64"
      ]
     },
     "execution_count": 15,
     "metadata": {},
     "output_type": "execute_result"
    }
   ],
   "source": [
    "# Review on class distribution of cell phone access with a focus on bank_account\n",
    "bankAccount_cellPhone = datasets.groupby(['bank_account', 'cellphone_access']).size()\n",
    "bankAccount_cellPhone"
   ]
  },
  {
   "cell_type": "code",
   "execution_count": 16,
   "id": "df8326aa",
   "metadata": {},
   "outputs": [
    {
     "data": {
      "text/plain": [
       "location_type  year\n",
       "Rural          2016    10688\n",
       "               2017     2613\n",
       "               2018     7231\n",
       "Urban          2016     1792\n",
       "               2017     6846\n",
       "               2018     4440\n",
       "dtype: int64"
      ]
     },
     "execution_count": 16,
     "metadata": {},
     "output_type": "execute_result"
    }
   ],
   "source": [
    "ruralUrban_Pop = datasets.groupby(['location_type', 'year']).size()\n",
    "ruralUrban_Pop"
   ]
  },
  {
   "cell_type": "code",
   "execution_count": 17,
   "id": "953a9c7c",
   "metadata": {},
   "outputs": [
    {
     "data": {
      "text/plain": [
       "<AxesSubplot:xlabel='location_type', ylabel='count'>"
      ]
     },
     "execution_count": 17,
     "metadata": {},
     "output_type": "execute_result"
    },
    {
     "data": {
      "image/png": "[encoded data removed]",
      "text/plain": [
       "<Figure size 432x288 with 1 Axes>"
      ]
     },
     "metadata": {
      "needs_background": "light"
     },
     "output_type": "display_data"
    }
   ],
   "source": [
    "sns.countplot(data=datasets, x = 'location_type', hue = 'bank_account')"
   ]
  },
  {
   "cell_type": "code",
   "execution_count": 18,
   "id": "c7372642",
   "metadata": {},
   "outputs": [
    {
     "data": {
      "text/plain": [
       "<AxesSubplot:title={'center':'Gender distribution vs bank account ownership'}, xlabel='gender_of_respondent', ylabel='count'>"
      ]
     },
     "execution_count": 18,
     "metadata": {},
     "output_type": "execute_result"
    },
    {
     "data": {
      "image/png": "[encoded data removed]",
      "text/plain": [
       "<Figure size 432x288 with 1 Axes>"
      ]
     },
     "metadata": {
      "needs_background": "light"
     },
     "output_type": "display_data"
    }
   ],
   "source": [
    "# focus on gender of the respondent\n",
    "plt.title('Gender distribution vs bank account ownership')\n",
    "sns.countplot(data=datasets, x = 'gender_of_respondent', hue = 'bank_account')"
   ]
  },
  {
   "cell_type": "code",
   "execution_count": 19,
   "id": "c2d703bc",
   "metadata": {},
   "outputs": [
    {
     "data": {
      "text/plain": [
       "gender_of_respondent  bank_account\n",
       "Female                No              12395\n",
       "                      Yes              1482\n",
       "Male                  No               7817\n",
       "                      Yes              1830\n",
       "dtype: int64"
      ]
     },
     "execution_count": 19,
     "metadata": {},
     "output_type": "execute_result"
    }
   ],
   "source": [
    "genderBySize = datasets.groupby(['gender_of_respondent','bank_account']).size()\n",
    "genderBySize"
   ]
  },
  {
   "cell_type": "code",
   "execution_count": 20,
   "id": "25b8bc1b",
   "metadata": {},
   "outputs": [
    {
     "data": {
      "text/plain": [
       "relationship_with_head  bank_account\n",
       "Child                   No               2036\n",
       "                        Yes               193\n",
       "Head of Household       No              10558\n",
       "                        Yes              2273\n",
       "Other non-relatives     No                170\n",
       "                        Yes                20\n",
       "Other relative          No                602\n",
       "                        Yes                66\n",
       "Parent                  No               1021\n",
       "                        Yes                65\n",
       "Spouse                  No               5825\n",
       "                        Yes               695\n",
       "dtype: int64"
      ]
     },
     "execution_count": 20,
     "metadata": {},
     "output_type": "execute_result"
    }
   ],
   "source": [
    "# Review on relationship with the head with a focus on bank account ownership\n",
    "relationWithThe_head = datasets.groupby(['relationship_with_head', 'bank_account']).size()\n",
    "relationWithThe_head"
   ]
  },
  {
   "cell_type": "code",
   "execution_count": 21,
   "id": "536dd453",
   "metadata": {},
   "outputs": [
    {
     "data": {
      "text/plain": [
       "<AxesSubplot:title={'center':'Interviewee relationship with the head of the family'}, xlabel='relationship_with_head', ylabel='count'>"
      ]
     },
     "execution_count": 21,
     "metadata": {},
     "output_type": "execute_result"
    },
    {
     "data": {
      "image/png": "[encoded data removed]",
      "text/plain": [
       "<Figure size 1008x504 with 1 Axes>"
      ]
     },
     "metadata": {
      "needs_background": "light"
     },
     "output_type": "display_data"
    }
   ],
   "source": [
    "plt.figure(figsize=(14,7))\n",
    "plt.title('Interviewee relationship with the head of the family')\n",
    "sns.countplot(data=datasets, x='relationship_with_head')"
   ]
  },
  {
   "cell_type": "code",
   "execution_count": 22,
   "id": "a114a1e5",
   "metadata": {},
   "outputs": [
    {
     "data": {
      "text/plain": [
       "marital_status           bank_account\n",
       "Divorced/Seperated       No              1842\n",
       "                         Yes              234\n",
       "Dont know                No                 6\n",
       "                         Yes                2\n",
       "Married/Living together  No              8883\n",
       "                         Yes             1866\n",
       "Single/Never Married     No              7017\n",
       "                         Yes              966\n",
       "Widowed                  No              2464\n",
       "                         Yes              244\n",
       "dtype: int64"
      ]
     },
     "execution_count": 22,
     "metadata": {},
     "output_type": "execute_result"
    }
   ],
   "source": [
    "# maritalStatus\n",
    "maritalStatus = datasets.groupby(['marital_status', 'bank_account']).size()\n",
    "maritalStatus"
   ]
  },
  {
   "cell_type": "code",
   "execution_count": 23,
   "id": "457692b8",
   "metadata": {},
   "outputs": [
    {
     "data": {
      "text/plain": [
       "<AxesSubplot:xlabel='marital_status', ylabel='count'>"
      ]
     },
     "execution_count": 23,
     "metadata": {},
     "output_type": "execute_result"
    },
    {
     "data": {
      "image/png": "[encoded data removed]",
      "text/plain": [
       "<Figure size 864x288 with 1 Axes>"
      ]
     },
     "metadata": {
      "needs_background": "light"
     },
     "output_type": "display_data"
    }
   ],
   "source": [
    "plt.figure(figsize=(12,4))\n",
    "sns.countplot(data=datasets, x='marital_status', hue = 'bank_account')"
   ]
  },
  {
   "cell_type": "code",
   "execution_count": 24,
   "id": "f2eeec73",
   "metadata": {},
   "outputs": [
    {
     "data": {
      "text/plain": [
       "education_level                  bank_account\n",
       "No formal education              No               4339\n",
       "                                 Yes               176\n",
       "Other/Dont know/RTA              No                 24\n",
       "                                 Yes                11\n",
       "Primary education                No              11698\n",
       "                                 Yes              1093\n",
       "Secondary education              No               3240\n",
       "                                 Yes               983\n",
       "Tertiary education               No                566\n",
       "                                 Yes               591\n",
       "Vocational/Specialised training  No                345\n",
       "                                 Yes               458\n",
       "dtype: int64"
      ]
     },
     "execution_count": 24,
     "metadata": {},
     "output_type": "execute_result"
    }
   ],
   "source": [
    "# Review on education level distribution\n",
    "educationLevel = datasets.groupby(['education_level', 'bank_account']).size()\n",
    "educationLevel"
   ]
  },
  {
   "cell_type": "code",
   "execution_count": 25,
   "id": "f14a3a6a",
   "metadata": {},
   "outputs": [
    {
     "data": {
      "text/plain": [
       "<AxesSubplot:xlabel='education_level', ylabel='count'>"
      ]
     },
     "execution_count": 25,
     "metadata": {},
     "output_type": "execute_result"
    },
    {
     "data": {
      "image/png": "[encoded data removed]",
      "text/plain": [
       "<Figure size 1008x432 with 1 Axes>"
      ]
     },
     "metadata": {
      "needs_background": "light"
     },
     "output_type": "display_data"
    }
   ],
   "source": [
    "plt.figure(figsize=(14,6))\n",
    "sns.countplot(data=datasets, x='education_level')"
   ]
  },
  {
   "cell_type": "code",
   "execution_count": 26,
   "id": "6783dd2c",
   "metadata": {},
   "outputs": [
    {
     "data": {
      "text/plain": [
       "job_type                      bank_account\n",
       "Dont Know/Refuse to answer    No               112\n",
       "                              Yes               14\n",
       "Farming and Fishing           No              4806\n",
       "                              Yes              635\n",
       "Formally employed Government  No                87\n",
       "                              Yes              300\n",
       "Formally employed Private     No               484\n",
       "                              Yes              571\n",
       "Government Dependent          No               197\n",
       "                              Yes               50\n",
       "Informally employed           No              5152\n",
       "                              Yes              445\n",
       "No Income                     No               614\n",
       "                              Yes               13\n",
       "Other Income                  No               884\n",
       "                              Yes              196\n",
       "Remittance Dependent          No              2287\n",
       "                              Yes              240\n",
       "Self employed                 No              5589\n",
       "                              Yes              848\n",
       "dtype: int64"
      ]
     },
     "execution_count": 26,
     "metadata": {},
     "output_type": "execute_result"
    }
   ],
   "source": [
    "# Review in job type with a focus on bank account ownership (Y/N)\n",
    "jobType = datasets.groupby(['job_type',  'bank_account']).size()\n",
    "jobType"
   ]
  },
  {
   "cell_type": "code",
   "execution_count": 27,
   "id": "2f208299",
   "metadata": {},
   "outputs": [
    {
     "data": {
      "text/plain": [
       "<AxesSubplot:title={'center':'Age of Respondent Distribution'}, xlabel='age_of_respondent', ylabel='Density'>"
      ]
     },
     "execution_count": 27,
     "metadata": {},
     "output_type": "execute_result"
    },
    {
     "data": {
      "image/png": "[encoded data removed]",
      "text/plain": [
       "<Figure size 864x288 with 1 Axes>"
      ]
     },
     "metadata": {
      "needs_background": "light"
     },
     "output_type": "display_data"
    }
   ],
   "source": [
    "# Review on age of the respondent\n",
    "plt.figure(figsize=(12,4))\n",
    "plt.title('Age of Respondent Distribution')\n",
    "sns.kdeplot(data=datasets['age_of_respondent'], shade= True)"
   ]
  },
  {
   "cell_type": "code",
   "execution_count": 28,
   "id": "0579510d",
   "metadata": {},
   "outputs": [
    {
     "data": {
      "text/plain": [
       "<AxesSubplot:xlabel='household_size', ylabel='Density'>"
      ]
     },
     "execution_count": 28,
     "metadata": {},
     "output_type": "execute_result"
    },
    {
     "data": {
      "image/png": "[encoded data removed]",
      "text/plain": [
       "<Figure size 432x288 with 1 Axes>"
      ]
     },
     "metadata": {
      "needs_background": "light"
     },
     "output_type": "display_data"
    }
   ],
   "source": [
    "# Household size review\n",
    "sns.kdeplot(data = datasets['household_size'], shade = True)"
   ]
  },
  {
   "cell_type": "code",
   "execution_count": 29,
   "id": "23363763",
   "metadata": {},
   "outputs": [
    {
     "data": {
      "text/plain": [
       "<AxesSubplot:xlabel='household_size'>"
      ]
     },
     "execution_count": 29,
     "metadata": {},
     "output_type": "execute_result"
    },
    {
     "data": {
      "image/png": "[encoded data removed]",
      "text/plain": [
       "<Figure size 432x288 with 1 Axes>"
      ]
     },
     "metadata": {
      "needs_background": "light"
     },
     "output_type": "display_data"
    }
   ],
   "source": [
    "sns.boxplot(data=datasets, x = 'household_size')"
   ]
  },
  {
   "cell_type": "code",
   "execution_count": 31,
   "id": "776efa7e",
   "metadata": {},
   "outputs": [
    {
     "name": "stderr",
     "output_type": "stream",
     "text": [
      "c:\\Users\\SHOFCO SUN\\anaconda3\\lib\\site-packages\\seaborn\\distributions.py:2619: FutureWarning: `distplot` is a deprecated function and will be removed in a future version. Please adapt your code to use either `displot` (a figure-level function with similar flexibility) or `histplot` (an axes-level function for histograms).\n",
      "  warnings.warn(msg, FutureWarning)\n"
     ]
    },
    {
     "data": {
      "text/plain": [
       "<AxesSubplot:xlabel='household_size', ylabel='Density'>"
      ]
     },
     "execution_count": 31,
     "metadata": {},
     "output_type": "execute_result"
    },
    {
     "data": {
      "image/png": "[encoded data removed]",
      "text/plain": [
       "<Figure size 432x288 with 1 Axes>"
      ]
     },
     "metadata": {
      "needs_background": "light"
     },
     "output_type": "display_data"
    }
   ],
   "source": [
    "# from the observation there are presence of outliers\n",
    "# since our data set is skewed we will use IQR proximity rule \n",
    "sns.distplot(datasets['household_size'])"
   ]
  },
  {
   "cell_type": "code",
   "execution_count": 36,
   "id": "782c0e1a",
   "metadata": {},
   "outputs": [
    {
     "name": "stdout",
     "output_type": "stream",
     "text": [
      "The inter quatile range for housold size is 3.0.\n"
     ]
    }
   ],
   "source": [
    "# finding the IQR\n",
    "percentile25 = datasets['household_size'].quantile(0.25)\n",
    "percentile75 = datasets['household_size'].quantile(0.75)\n",
    "iqr = percentile75 - percentile25\n",
    "print(f\"The inter quatile range for housold size is {iqr}.\")\n"
   ]
  },
  {
   "cell_type": "code",
   "execution_count": 39,
   "id": "b765c031",
   "metadata": {},
   "outputs": [
    {
     "name": "stdout",
     "output_type": "stream",
     "text": [
      "9.5 -2.5\n"
     ]
    }
   ],
   "source": [
    "#finding upper and lower limit\n",
    "upper_limit = percentile75 + 1.5 * iqr\n",
    "lower_limit = percentile25 - 1.5 * iqr    \n",
    "print(upper_limit,lower_limit)\n"
   ]
  },
  {
   "cell_type": "code",
   "execution_count": null,
   "id": "1030230b",
   "metadata": {},
   "outputs": [],
   "source": []
  },
  {
   "cell_type": "code",
   "execution_count": 44,
   "id": "88bde531",
   "metadata": {},
   "outputs": [],
   "source": [
    "#use my upper and lower fences to highlight any outliers"
   ]
  }
 ],
 "metadata": {
  "kernelspec": {
   "display_name": "Python 3.9.12 ('base')",
   "language": "python",
   "name": "python3"
  },
  "language_info": {
   "codemirror_mode": {
    "name": "ipython",
    "version": 3
   },
   "file_extension": ".py",
   "mimetype": "text/x-python",
   "name": "python",
   "nbconvert_exporter": "python",
   "pygments_lexer": "ipython3",
   "version": "3.9.12"
  },
  "vscode": {
   "interpreter": {
    "hash": "65ef52123fc77ea23f8ac145b5c85ff2271e822b04596bb0664ad0ebde9e6dd0"
   }
  }
 },
 "nbformat": 4,
 "nbformat_minor": 5
}
